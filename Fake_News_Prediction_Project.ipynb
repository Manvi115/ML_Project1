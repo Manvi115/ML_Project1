{
  "nbformat": 4,
  "nbformat_minor": 0,
  "metadata": {
    "colab": {
      "name": "Fake News Prediction Project.ipynb",
      "provenance": [],
      "authorship_tag": "ABX9TyP1ag+7QmSjhwbBuA7b/aX9",
      "include_colab_link": true
    },
    "kernelspec": {
      "name": "python3",
      "display_name": "Python 3"
    },
    "language_info": {
      "name": "python"
    }
  },
  "cells": [
    {
      "cell_type": "markdown",
      "metadata": {
        "id": "view-in-github",
        "colab_type": "text"
      },
      "source": [
        "<a href=\"https://colab.research.google.com/github/Manvi115/ML_Project1/blob/main/Fake_News_Prediction_Project.ipynb\" target=\"_parent\"><img src=\"https://colab.research.google.com/assets/colab-badge.svg\" alt=\"Open In Colab\"/></a>"
      ]
    },
    {
      "cell_type": "code",
      "execution_count": null,
      "metadata": {
        "id": "5yLFaxGld3Jd"
      },
      "outputs": [],
      "source": [
        ""
      ]
    },
    {
      "cell_type": "markdown",
      "source": [
        "Roles of different libraries used by us:-\n",
        "\n",
        "numpy is useful for creating numpy arrays\n",
        "\n",
        "pandas is useful in creaing dataframs and storing the data in the dataframes\n",
        "\n",
        "re is regular expression is used to search the words in a text\n",
        "\n",
        "nltk is natural language toolkit .. corpus is text body...  stopwords means those words which doesn't add much value to text context like articles\n",
        "\n",
        "stemming is a function which takes a word and removes suffix and prefix and returns the root word of it.\n",
        "\n",
        "TfidVectorizer converts text into feature Vectors (numbers)\n",
        "\n",
        "train_test_split splits data into training and testing data\n",
        "\n",
        "LogisticRegression is our model\n"
      ],
      "metadata": {
        "id": "T7Dy21gTL3ct"
      }
    },
    {
      "cell_type": "markdown",
      "source": [
        ""
      ],
      "metadata": {
        "id": "pbRs21bLKWB5"
      }
    },
    {
      "cell_type": "markdown",
      "source": [
        "re is regular expression .. useful for searching text in a document\n",
        "nltk is natural language tool kit \n",
        "corpus is the body of text\n",
        "stemming is a function which removes a prefix and suffix from a word\n",
        "TfidfVectorizer is used to convert text to features(numbers)\n",
        "train_test_split seperates data into training and testing data\n",
        "Logistic Regression is input\n"
      ],
      "metadata": {
        "id": "mbUeHUkXKaF2"
      }
    },
    {
      "cell_type": "markdown",
      "source": [
        "About the Dataset:\n",
        "\n",
        "\n",
        "1.   id: unique id for a news article\n",
        "2.   title: the title of a news article\n",
        "3.   autor: author of the news article\n",
        "4.   text: the text of the article; could be incomplete\n",
        "5.   label: a label that marks whether the news article is real or fake:\n",
        "\n",
        "\n",
        "> 1: Fake news\n",
        "0: real news\n",
        "\n",
        "\n",
        "\n",
        "\n",
        "\n"
      ],
      "metadata": {
        "id": "ZteGUS6Fd74g"
      }
    },
    {
      "cell_type": "code",
      "source": [
        "import pandas as pd\n",
        "import numpy as np\n",
        "import re\n",
        "from nltk.corpus import stopwords\n",
        "from nltk.stem.porter import PorterStemmer\n",
        "from sklearn.feature_extraction.text import TfidfVectorizer\n",
        "from sklearn.model_selection import train_test_split\n",
        "from sklearn.linear_model import LogisticRegression\n",
        "from sklearn.metrics import accuracy_score\n"
      ],
      "metadata": {
        "id": "qnuMATXqeke_"
      },
      "execution_count": 4,
      "outputs": []
    },
    {
      "cell_type": "markdown",
      "source": [
        "downloading all the stopwords\n"
      ],
      "metadata": {
        "id": "cBKOxiQBNpYo"
      }
    },
    {
      "cell_type": "code",
      "source": [
        "import nltk\n",
        "nltk.download('stopwords')"
      ],
      "metadata": {
        "colab": {
          "base_uri": "https://localhost:8080/"
        },
        "id": "5Uci3D3LLwV0",
        "outputId": "ad2c3e67-f652-4031-ea34-b49ca8dca76b"
      },
      "execution_count": 5,
      "outputs": [
        {
          "output_type": "stream",
          "name": "stderr",
          "text": [
            "[nltk_data] Downloading package stopwords to /root/nltk_data...\n",
            "[nltk_data]   Unzipping corpora/stopwords.zip.\n"
          ]
        },
        {
          "output_type": "execute_result",
          "data": {
            "text/plain": [
              "True"
            ]
          },
          "metadata": {},
          "execution_count": 5
        }
      ]
    },
    {
      "cell_type": "code",
      "source": [
        "# printing the stopwords in english\n",
        "print(stopwords.words('english'))"
      ],
      "metadata": {
        "colab": {
          "base_uri": "https://localhost:8080/"
        },
        "id": "Gkr2DJ3tNwYw",
        "outputId": "b13d2a9c-1a65-4439-dc1d-13e9730354b2"
      },
      "execution_count": 6,
      "outputs": [
        {
          "output_type": "stream",
          "name": "stdout",
          "text": [
            "['i', 'me', 'my', 'myself', 'we', 'our', 'ours', 'ourselves', 'you', \"you're\", \"you've\", \"you'll\", \"you'd\", 'your', 'yours', 'yourself', 'yourselves', 'he', 'him', 'his', 'himself', 'she', \"she's\", 'her', 'hers', 'herself', 'it', \"it's\", 'its', 'itself', 'they', 'them', 'their', 'theirs', 'themselves', 'what', 'which', 'who', 'whom', 'this', 'that', \"that'll\", 'these', 'those', 'am', 'is', 'are', 'was', 'were', 'be', 'been', 'being', 'have', 'has', 'had', 'having', 'do', 'does', 'did', 'doing', 'a', 'an', 'the', 'and', 'but', 'if', 'or', 'because', 'as', 'until', 'while', 'of', 'at', 'by', 'for', 'with', 'about', 'against', 'between', 'into', 'through', 'during', 'before', 'after', 'above', 'below', 'to', 'from', 'up', 'down', 'in', 'out', 'on', 'off', 'over', 'under', 'again', 'further', 'then', 'once', 'here', 'there', 'when', 'where', 'why', 'how', 'all', 'any', 'both', 'each', 'few', 'more', 'most', 'other', 'some', 'such', 'no', 'nor', 'not', 'only', 'own', 'same', 'so', 'than', 'too', 'very', 's', 't', 'can', 'will', 'just', 'don', \"don't\", 'should', \"should've\", 'now', 'd', 'll', 'm', 'o', 're', 've', 'y', 'ain', 'aren', \"aren't\", 'couldn', \"couldn't\", 'didn', \"didn't\", 'doesn', \"doesn't\", 'hadn', \"hadn't\", 'hasn', \"hasn't\", 'haven', \"haven't\", 'isn', \"isn't\", 'ma', 'mightn', \"mightn't\", 'mustn', \"mustn't\", 'needn', \"needn't\", 'shan', \"shan't\", 'shouldn', \"shouldn't\", 'wasn', \"wasn't\", 'weren', \"weren't\", 'won', \"won't\", 'wouldn', \"wouldn't\"]\n"
          ]
        }
      ]
    },
    {
      "cell_type": "markdown",
      "source": [
        "Data Preprocessing"
      ],
      "metadata": {
        "id": "aEgclaO5OH-6"
      }
    },
    {
      "cell_type": "code",
      "source": [
        "# loading the dataset to a pandas DataFrame becaues pandas dataframe is more strucutures table\n",
        "news_dataset = pd.read_csv('/content/train.csv',error_bad_lines=False, engine=\"python\")"
      ],
      "metadata": {
        "colab": {
          "base_uri": "https://localhost:8080/"
        },
        "id": "pHvvYosuOqwu",
        "outputId": "b181ea4b-cdbf-49af-b50f-934e317b915f"
      },
      "execution_count": 28,
      "outputs": [
        {
          "output_type": "stream",
          "name": "stderr",
          "text": [
            "/usr/local/lib/python3.7/dist-packages/IPython/core/interactiveshell.py:2882: FutureWarning: The error_bad_lines argument has been deprecated and will be removed in a future version.\n",
            "\n",
            "\n",
            "  exec(code_obj, self.user_global_ns, self.user_ns)\n",
            "Skipping line 9885: unexpected end of data\n"
          ]
        }
      ]
    },
    {
      "cell_type": "code",
      "source": [
        "news_dataset.shape\n"
      ],
      "metadata": {
        "colab": {
          "base_uri": "https://localhost:8080/"
        },
        "id": "lPWFjtJLQGV-",
        "outputId": "47eb00dc-a7ff-45ed-a9c1-fa2f7a91139c"
      },
      "execution_count": 29,
      "outputs": [
        {
          "output_type": "execute_result",
          "data": {
            "text/plain": [
              "(9883, 5)"
            ]
          },
          "metadata": {},
          "execution_count": 29
        }
      ]
    },
    {
      "cell_type": "code",
      "source": [
        "#print first five rows of dataframe\n",
        "news_dataset.head()"
      ],
      "metadata": {
        "colab": {
          "base_uri": "https://localhost:8080/",
          "height": 320
        },
        "id": "F6GLSTvCQY_0",
        "outputId": "3c3e0d58-a6af-44ba-db8d-f0c8b85b5474"
      },
      "execution_count": 30,
      "outputs": [
        {
          "output_type": "execute_result",
          "data": {
            "text/plain": [
              "   id                                              title              author  \\\n",
              "0   0  House Dem Aide: We Didn’t Even See Comey’s Let...       Darrell Lucus   \n",
              "1   1  FLYNN: Hillary Clinton, Big Woman on Campus - ...     Daniel J. Flynn   \n",
              "2   2                  Why the Truth Might Get You Fired  Consortiumnews.com   \n",
              "3   3  15 Civilians Killed In Single US Airstrike Hav...     Jessica Purkiss   \n",
              "4   4  Iranian woman jailed for fictional unpublished...      Howard Portnoy   \n",
              "\n",
              "                                                text  label  \n",
              "0  House Dem Aide: We Didn’t Even See Comey’s Let...      1  \n",
              "1  Ever get the feeling your life circles the rou...      0  \n",
              "2  Why the Truth Might Get You Fired October 29, ...      1  \n",
              "3  Videos 15 Civilians Killed In Single US Airstr...      1  \n",
              "4  Print \\nAn Iranian woman has been sentenced to...      1  "
            ],
            "text/html": [
              "\n",
              "  <div id=\"df-f8c10785-543b-48cf-a91a-1d80f3fdbb58\">\n",
              "    <div class=\"colab-df-container\">\n",
              "      <div>\n",
              "<style scoped>\n",
              "    .dataframe tbody tr th:only-of-type {\n",
              "        vertical-align: middle;\n",
              "    }\n",
              "\n",
              "    .dataframe tbody tr th {\n",
              "        vertical-align: top;\n",
              "    }\n",
              "\n",
              "    .dataframe thead th {\n",
              "        text-align: right;\n",
              "    }\n",
              "</style>\n",
              "<table border=\"1\" class=\"dataframe\">\n",
              "  <thead>\n",
              "    <tr style=\"text-align: right;\">\n",
              "      <th></th>\n",
              "      <th>id</th>\n",
              "      <th>title</th>\n",
              "      <th>author</th>\n",
              "      <th>text</th>\n",
              "      <th>label</th>\n",
              "    </tr>\n",
              "  </thead>\n",
              "  <tbody>\n",
              "    <tr>\n",
              "      <th>0</th>\n",
              "      <td>0</td>\n",
              "      <td>House Dem Aide: We Didn’t Even See Comey’s Let...</td>\n",
              "      <td>Darrell Lucus</td>\n",
              "      <td>House Dem Aide: We Didn’t Even See Comey’s Let...</td>\n",
              "      <td>1</td>\n",
              "    </tr>\n",
              "    <tr>\n",
              "      <th>1</th>\n",
              "      <td>1</td>\n",
              "      <td>FLYNN: Hillary Clinton, Big Woman on Campus - ...</td>\n",
              "      <td>Daniel J. Flynn</td>\n",
              "      <td>Ever get the feeling your life circles the rou...</td>\n",
              "      <td>0</td>\n",
              "    </tr>\n",
              "    <tr>\n",
              "      <th>2</th>\n",
              "      <td>2</td>\n",
              "      <td>Why the Truth Might Get You Fired</td>\n",
              "      <td>Consortiumnews.com</td>\n",
              "      <td>Why the Truth Might Get You Fired October 29, ...</td>\n",
              "      <td>1</td>\n",
              "    </tr>\n",
              "    <tr>\n",
              "      <th>3</th>\n",
              "      <td>3</td>\n",
              "      <td>15 Civilians Killed In Single US Airstrike Hav...</td>\n",
              "      <td>Jessica Purkiss</td>\n",
              "      <td>Videos 15 Civilians Killed In Single US Airstr...</td>\n",
              "      <td>1</td>\n",
              "    </tr>\n",
              "    <tr>\n",
              "      <th>4</th>\n",
              "      <td>4</td>\n",
              "      <td>Iranian woman jailed for fictional unpublished...</td>\n",
              "      <td>Howard Portnoy</td>\n",
              "      <td>Print \\nAn Iranian woman has been sentenced to...</td>\n",
              "      <td>1</td>\n",
              "    </tr>\n",
              "  </tbody>\n",
              "</table>\n",
              "</div>\n",
              "      <button class=\"colab-df-convert\" onclick=\"convertToInteractive('df-f8c10785-543b-48cf-a91a-1d80f3fdbb58')\"\n",
              "              title=\"Convert this dataframe to an interactive table.\"\n",
              "              style=\"display:none;\">\n",
              "        \n",
              "  <svg xmlns=\"http://www.w3.org/2000/svg\" height=\"24px\"viewBox=\"0 0 24 24\"\n",
              "       width=\"24px\">\n",
              "    <path d=\"M0 0h24v24H0V0z\" fill=\"none\"/>\n",
              "    <path d=\"M18.56 5.44l.94 2.06.94-2.06 2.06-.94-2.06-.94-.94-2.06-.94 2.06-2.06.94zm-11 1L8.5 8.5l.94-2.06 2.06-.94-2.06-.94L8.5 2.5l-.94 2.06-2.06.94zm10 10l.94 2.06.94-2.06 2.06-.94-2.06-.94-.94-2.06-.94 2.06-2.06.94z\"/><path d=\"M17.41 7.96l-1.37-1.37c-.4-.4-.92-.59-1.43-.59-.52 0-1.04.2-1.43.59L10.3 9.45l-7.72 7.72c-.78.78-.78 2.05 0 2.83L4 21.41c.39.39.9.59 1.41.59.51 0 1.02-.2 1.41-.59l7.78-7.78 2.81-2.81c.8-.78.8-2.07 0-2.86zM5.41 20L4 18.59l7.72-7.72 1.47 1.35L5.41 20z\"/>\n",
              "  </svg>\n",
              "      </button>\n",
              "      \n",
              "  <style>\n",
              "    .colab-df-container {\n",
              "      display:flex;\n",
              "      flex-wrap:wrap;\n",
              "      gap: 12px;\n",
              "    }\n",
              "\n",
              "    .colab-df-convert {\n",
              "      background-color: #E8F0FE;\n",
              "      border: none;\n",
              "      border-radius: 50%;\n",
              "      cursor: pointer;\n",
              "      display: none;\n",
              "      fill: #1967D2;\n",
              "      height: 32px;\n",
              "      padding: 0 0 0 0;\n",
              "      width: 32px;\n",
              "    }\n",
              "\n",
              "    .colab-df-convert:hover {\n",
              "      background-color: #E2EBFA;\n",
              "      box-shadow: 0px 1px 2px rgba(60, 64, 67, 0.3), 0px 1px 3px 1px rgba(60, 64, 67, 0.15);\n",
              "      fill: #174EA6;\n",
              "    }\n",
              "\n",
              "    [theme=dark] .colab-df-convert {\n",
              "      background-color: #3B4455;\n",
              "      fill: #D2E3FC;\n",
              "    }\n",
              "\n",
              "    [theme=dark] .colab-df-convert:hover {\n",
              "      background-color: #434B5C;\n",
              "      box-shadow: 0px 1px 3px 1px rgba(0, 0, 0, 0.15);\n",
              "      filter: drop-shadow(0px 1px 2px rgba(0, 0, 0, 0.3));\n",
              "      fill: #FFFFFF;\n",
              "    }\n",
              "  </style>\n",
              "\n",
              "      <script>\n",
              "        const buttonEl =\n",
              "          document.querySelector('#df-f8c10785-543b-48cf-a91a-1d80f3fdbb58 button.colab-df-convert');\n",
              "        buttonEl.style.display =\n",
              "          google.colab.kernel.accessAllowed ? 'block' : 'none';\n",
              "\n",
              "        async function convertToInteractive(key) {\n",
              "          const element = document.querySelector('#df-f8c10785-543b-48cf-a91a-1d80f3fdbb58');\n",
              "          const dataTable =\n",
              "            await google.colab.kernel.invokeFunction('convertToInteractive',\n",
              "                                                     [key], {});\n",
              "          if (!dataTable) return;\n",
              "\n",
              "          const docLinkHtml = 'Like what you see? Visit the ' +\n",
              "            '<a target=\"_blank\" href=https://colab.research.google.com/notebooks/data_table.ipynb>data table notebook</a>'\n",
              "            + ' to learn more about interactive tables.';\n",
              "          element.innerHTML = '';\n",
              "          dataTable['output_type'] = 'display_data';\n",
              "          await google.colab.output.renderOutput(dataTable, element);\n",
              "          const docLink = document.createElement('div');\n",
              "          docLink.innerHTML = docLinkHtml;\n",
              "          element.appendChild(docLink);\n",
              "        }\n",
              "      </script>\n",
              "    </div>\n",
              "  </div>\n",
              "  "
            ]
          },
          "metadata": {},
          "execution_count": 30
        }
      ]
    },
    {
      "cell_type": "code",
      "source": [
        "# counting the number of missing values in the dataset\n",
        "news_dataset.isnull().sum()"
      ],
      "metadata": {
        "colab": {
          "base_uri": "https://localhost:8080/"
        },
        "id": "vohqx1FHfT0u",
        "outputId": "998be470-9a19-4c75-baa7-992a4cac038d"
      },
      "execution_count": 31,
      "outputs": [
        {
          "output_type": "execute_result",
          "data": {
            "text/plain": [
              "id          0\n",
              "title     269\n",
              "author    934\n",
              "text       21\n",
              "label       0\n",
              "dtype: int64"
            ]
          },
          "metadata": {},
          "execution_count": 31
        }
      ]
    },
    {
      "cell_type": "code",
      "source": [
        "#replacing the null values with empty string\n",
        "news_dataset = news_dataset.fillna('')"
      ],
      "metadata": {
        "id": "nFRNPaQ2gXJl"
      },
      "execution_count": 32,
      "outputs": []
    },
    {
      "cell_type": "code",
      "source": [
        "#merging the author name and news title\n",
        "news_dataset['content'] = news_dataset['author'] + ' ' + news_dataset['title']"
      ],
      "metadata": {
        "id": "K8TlI5M9gzy1"
      },
      "execution_count": 33,
      "outputs": []
    },
    {
      "cell_type": "code",
      "source": [
        "print(news_dataset['content'])"
      ],
      "metadata": {
        "colab": {
          "base_uri": "https://localhost:8080/"
        },
        "id": "e-kY2N7jhX7f",
        "outputId": "ca74a6ca-cc22-4948-eedb-1a2d7095e8f0"
      },
      "execution_count": 34,
      "outputs": [
        {
          "output_type": "stream",
          "name": "stdout",
          "text": [
            "0       Darrell Lucus House Dem Aide: We Didn’t Even S...\n",
            "1       Daniel J. Flynn FLYNN: Hillary Clinton, Big Wo...\n",
            "2       Consortiumnews.com Why the Truth Might Get You...\n",
            "3       Jessica Purkiss 15 Civilians Killed In Single ...\n",
            "4       Howard Portnoy Iranian woman jailed for fictio...\n",
            "                              ...                        \n",
            "9878    Warner Todd Huston ’White Devils’: Muhammad Al...\n",
            "9879    ActivistPost We Now Have Proof Obamacare Was D...\n",
            "9880    Meghan Moravcik Walbert After Losing a Foster ...\n",
            "9881    Patrick Healy Hillary Clinton and Donald Trump...\n",
            "9882    Alex Ansary Kremlin: NATO was Created for Agre...\n",
            "Name: content, Length: 9883, dtype: object\n"
          ]
        }
      ]
    },
    {
      "cell_type": "code",
      "source": [
        "#seperating the data & label\n",
        "X = news_dataset.drop(columns='label', axis=1)  #for column 1 .. for row 0 \n",
        "Y= news_dataset['label']"
      ],
      "metadata": {
        "id": "CyNsjUCkhbfs"
      },
      "execution_count": 35,
      "outputs": []
    },
    {
      "cell_type": "code",
      "source": [
        "print(X)\n",
        "print(Y)"
      ],
      "metadata": {
        "colab": {
          "base_uri": "https://localhost:8080/"
        },
        "id": "Nin2TZSPh8OJ",
        "outputId": "d92962dc-ba51-4202-fb8e-f947ece9afa4"
      },
      "execution_count": 36,
      "outputs": [
        {
          "output_type": "stream",
          "name": "stdout",
          "text": [
            "        id                                              title  \\\n",
            "0        0  House Dem Aide: We Didn’t Even See Comey’s Let...   \n",
            "1        1  FLYNN: Hillary Clinton, Big Woman on Campus - ...   \n",
            "2        2                  Why the Truth Might Get You Fired   \n",
            "3        3  15 Civilians Killed In Single US Airstrike Hav...   \n",
            "4        4  Iranian woman jailed for fictional unpublished...   \n",
            "...    ...                                                ...   \n",
            "9878  9878  ’White Devils’: Muhammad Ali’s Racist Mosque S...   \n",
            "9879  9879  We Now Have Proof Obamacare Was Designed to Fa...   \n",
            "9880  9880  After Losing a Foster Child, Contemplating Ano...   \n",
            "9881  9881  Hillary Clinton and Donald Trump, Ages 68 and ...   \n",
            "9882  9882            Kremlin: NATO was Created for Agression   \n",
            "\n",
            "                       author  \\\n",
            "0               Darrell Lucus   \n",
            "1             Daniel J. Flynn   \n",
            "2          Consortiumnews.com   \n",
            "3             Jessica Purkiss   \n",
            "4              Howard Portnoy   \n",
            "...                       ...   \n",
            "9878       Warner Todd Huston   \n",
            "9879             ActivistPost   \n",
            "9880  Meghan Moravcik Walbert   \n",
            "9881            Patrick Healy   \n",
            "9882              Alex Ansary   \n",
            "\n",
            "                                                   text  \\\n",
            "0     House Dem Aide: We Didn’t Even See Comey’s Let...   \n",
            "1     Ever get the feeling your life circles the rou...   \n",
            "2     Why the Truth Might Get You Fired October 29, ...   \n",
            "3     Videos 15 Civilians Killed In Single US Airstr...   \n",
            "4     Print \\nAn Iranian woman has been sentenced to...   \n",
            "...                                                 ...   \n",
            "9878  FBI files detailing speeches delivered by heav...   \n",
            "9879  By Melissa Dykes The oligarchy runs our societ...   \n",
            "9880  He’s sitting on a couch with his brothers, pre...   \n",
            "9881  Donald J. Trump and Hillary Clinton have been ...   \n",
            "9882  Kremlin: NATO was Created for Agression 11/07/...   \n",
            "\n",
            "                                                content  \n",
            "0     Darrell Lucus House Dem Aide: We Didn’t Even S...  \n",
            "1     Daniel J. Flynn FLYNN: Hillary Clinton, Big Wo...  \n",
            "2     Consortiumnews.com Why the Truth Might Get You...  \n",
            "3     Jessica Purkiss 15 Civilians Killed In Single ...  \n",
            "4     Howard Portnoy Iranian woman jailed for fictio...  \n",
            "...                                                 ...  \n",
            "9878  Warner Todd Huston ’White Devils’: Muhammad Al...  \n",
            "9879  ActivistPost We Now Have Proof Obamacare Was D...  \n",
            "9880  Meghan Moravcik Walbert After Losing a Foster ...  \n",
            "9881  Patrick Healy Hillary Clinton and Donald Trump...  \n",
            "9882  Alex Ansary Kremlin: NATO was Created for Agre...  \n",
            "\n",
            "[9883 rows x 5 columns]\n",
            "0       1\n",
            "1       0\n",
            "2       1\n",
            "3       1\n",
            "4       1\n",
            "       ..\n",
            "9878    0\n",
            "9879    1\n",
            "9880    0\n",
            "9881    0\n",
            "9882    1\n",
            "Name: label, Length: 9883, dtype: int64\n"
          ]
        }
      ]
    },
    {
      "cell_type": "markdown",
      "source": [
        "STemming\n",
        "It is the process of reducing a word to a root word .. we will only convert these words to vecors(numbers)\n",
        "example: actor, actress, acting ---> act "
      ],
      "metadata": {
        "id": "Ji-hjkvIiOrq"
      }
    },
    {
      "cell_type": "code",
      "source": [
        "port_stem= PorterStemmer()"
      ],
      "metadata": {
        "id": "o6KSf3G6iPn1"
      },
      "execution_count": 37,
      "outputs": []
    },
    {
      "cell_type": "code",
      "source": [
        "# # def to create  a function\n",
        "def stemming(content): \n",
        "   stemmed_content = re.sub(\"[^a-zA-Z]\",\" \", content)  #(˄ means exclusion of everything which is not alphabets and replacing it with null space)\n",
        "   stemmed_content = stemmed_content.lower() #converting everything to lower case to make every letter equal\n",
        "   stemmed_content = stemmed_content.split() #to split data set in a list\n",
        "   stemmed_content = [port_stem.stem(word) for word in stemmed_content if not word in stopwords.words('english')] #stemming\n",
        "   stemmed_content = ' '.join(stemmed_content) #\n",
        "   return stemmed_content "
      ],
      "metadata": {
        "id": "mFn5Cfowi_uv"
      },
      "execution_count": 38,
      "outputs": []
    },
    {
      "cell_type": "code",
      "source": [
        "news_dataset['content'] = news_dataset['content'].apply(stemming)"
      ],
      "metadata": {
        "id": "7X-GbYTLkCAg"
      },
      "execution_count": 39,
      "outputs": []
    },
    {
      "cell_type": "code",
      "source": [
        "print(news_dataset['content'])"
      ],
      "metadata": {
        "colab": {
          "base_uri": "https://localhost:8080/"
        },
        "id": "Bg1CX7iWvr8m",
        "outputId": "b24db929-b562-4049-a33e-fbfeb20d6b2b"
      },
      "execution_count": 40,
      "outputs": [
        {
          "output_type": "stream",
          "name": "stdout",
          "text": [
            "0       darrel lucu hous dem aid even see comey letter...\n",
            "1       daniel j flynn flynn hillari clinton big woman...\n",
            "2                  consortiumnew com truth might get fire\n",
            "3       jessica purkiss civilian kill singl us airstri...\n",
            "4       howard portnoy iranian woman jail fiction unpu...\n",
            "                              ...                        \n",
            "9878    warner todd huston white devil muhammad ali ra...\n",
            "9879              activistpost proof obamacar design fail\n",
            "9880    meghan moravcik walbert lose foster child cont...\n",
            "9881    patrick heali hillari clinton donald trump age...\n",
            "9882                alex ansari kremlin nato creat agress\n",
            "Name: content, Length: 9883, dtype: object\n"
          ]
        }
      ]
    },
    {
      "cell_type": "code",
      "source": [
        "#separating the data and label\n",
        "X= news_dataset['content'].values\n",
        "Y= news_dataset['label'].values"
      ],
      "metadata": {
        "id": "-qmNzpmL1CVr"
      },
      "execution_count": 41,
      "outputs": []
    },
    {
      "cell_type": "code",
      "source": [
        "print(X)"
      ],
      "metadata": {
        "colab": {
          "base_uri": "https://localhost:8080/"
        },
        "id": "Xr-cHmUF7upW",
        "outputId": "db317d22-a48d-486f-dc41-8b30e720251c"
      },
      "execution_count": 42,
      "outputs": [
        {
          "output_type": "stream",
          "name": "stdout",
          "text": [
            "['darrel lucu hous dem aid even see comey letter jason chaffetz tweet'\n",
            " 'daniel j flynn flynn hillari clinton big woman campu breitbart'\n",
            " 'consortiumnew com truth might get fire' ...\n",
            " 'meghan moravcik walbert lose foster child contempl anoth new york time'\n",
            " 'patrick heali hillari clinton donald trump age share health detail new york time'\n",
            " 'alex ansari kremlin nato creat agress']\n"
          ]
        }
      ]
    },
    {
      "cell_type": "code",
      "source": [
        "print(Y)"
      ],
      "metadata": {
        "colab": {
          "base_uri": "https://localhost:8080/"
        },
        "id": "9JZqNbNI705-",
        "outputId": "3058d592-8f3a-49be-ccd7-83dabdc175ba"
      },
      "execution_count": 43,
      "outputs": [
        {
          "output_type": "stream",
          "name": "stdout",
          "text": [
            "[1 0 1 ... 0 0 1]\n"
          ]
        }
      ]
    },
    {
      "cell_type": "code",
      "source": [
        "Y.shape "
      ],
      "metadata": {
        "colab": {
          "base_uri": "https://localhost:8080/"
        },
        "id": "yISEpiEZ74nm",
        "outputId": "d84d596d-2e18-423b-8e66-daaa2527c2c6"
      },
      "execution_count": 44,
      "outputs": [
        {
          "output_type": "execute_result",
          "data": {
            "text/plain": [
              "(9883,)"
            ]
          },
          "metadata": {},
          "execution_count": 44
        }
      ]
    },
    {
      "cell_type": "code",
      "source": [
        "#converting textual data to numerical data\n",
        "vectorizer = TfidfVectorizer() #Tf stands for Term frequency .. idf stands for inverse document frequency ... It counts the number of times a word is repeated in a document\n",
        "vectorizer.fit(X)\n",
        "\n",
        "X= vectorizer.transform(X) #transform the values to numbers"
      ],
      "metadata": {
        "id": "yLOv-B5d8BAZ"
      },
      "execution_count": 45,
      "outputs": []
    },
    {
      "cell_type": "code",
      "source": [
        "print(X)"
      ],
      "metadata": {
        "colab": {
          "base_uri": "https://localhost:8080/"
        },
        "id": "NSrjm-6s--_F",
        "outputId": "63d02548-f8f8-474f-a193-76819c73f934"
      },
      "execution_count": null,
      "outputs": [
        {
          "output_type": "stream",
          "name": "stdout",
          "text": [
            "  (0, 10391)\t0.2857669667840401\n",
            "  (0, 8918)\t0.2565112117172494\n",
            "  (0, 5910)\t0.3487168483683741\n",
            "  (0, 5727)\t0.2903244395878411\n",
            "  (0, 5119)\t0.2516614676377858\n",
            "  (0, 4671)\t0.22403564420953384\n",
            "  (0, 3322)\t0.23636441963377403\n",
            "  (0, 2553)\t0.27121252902278775\n",
            "  (0, 2422)\t0.3487168483683741\n",
            "  (0, 1986)\t0.24613190933563625\n",
            "  (0, 1672)\t0.3853675512557288\n",
            "  (0, 194)\t0.2701946941978791\n",
            "  (1, 11082)\t0.29115814429141035\n",
            "  (1, 4555)\t0.18811594228359108\n",
            "  (1, 3689)\t0.7248137448454115\n",
            "  (1, 2401)\t0.26821911995681474\n",
            "  (1, 1887)\t0.18881311382112143\n",
            "  (1, 1508)\t0.37780536901010825\n",
            "  (1, 1287)\t0.1510080136288254\n",
            "  (1, 1028)\t0.28522299567265985\n",
            "  (2, 10342)\t0.42083360103298995\n",
            "  (2, 6371)\t0.49643466575246253\n",
            "  (2, 3994)\t0.3422741766307897\n",
            "  (2, 3613)\t0.38246297769831994\n",
            "  (2, 2096)\t0.4601213642359319\n",
            "  :\t:\n",
            "  (8161, 10851)\t0.38469983091692606\n",
            "  (8161, 7247)\t0.5214030038016889\n",
            "  (8161, 4649)\t0.6514605726286493\n",
            "  (8162, 10607)\t0.2545612841182937\n",
            "  (8162, 8984)\t0.36456157324510285\n",
            "  (8162, 8863)\t0.4158409531775147\n",
            "  (8162, 7833)\t0.32284128035589327\n",
            "  (8162, 5801)\t0.3099467387565989\n",
            "  (8162, 4555)\t0.1768578251490776\n",
            "  (8162, 3507)\t0.2335536176901937\n",
            "  (8162, 3123)\t0.2371333610445859\n",
            "  (8162, 3039)\t0.35964371280605517\n",
            "  (8162, 1887)\t0.17751327327530592\n",
            "  (8162, 1424)\t0.35519496689994695\n",
            "  (8163, 11213)\t0.0949650311074643\n",
            "  (8163, 10123)\t0.09329614308072254\n",
            "  (8163, 9960)\t0.3481676253279887\n",
            "  (8163, 8661)\t0.342400690665154\n",
            "  (8163, 7353)\t0.32864735652850957\n",
            "  (8163, 6813)\t0.09173816196419898\n",
            "  (8163, 6643)\t0.40227177301441713\n",
            "  (8163, 5840)\t0.3481676253279887\n",
            "  (8163, 2990)\t0.40227177301441713\n",
            "  (8163, 2926)\t0.2774428114386152\n",
            "  (8163, 482)\t0.3248895216392004\n"
          ]
        }
      ]
    },
    {
      "cell_type": "markdown",
      "source": [
        "Splitting dataset into training and test data"
      ],
      "metadata": {
        "id": "15X_WrKt_JRQ"
      }
    },
    {
      "cell_type": "code",
      "source": [
        "X_train, X_test, Y_train, Y_test = train_test_split(X, Y, test_size = 0.2, stratify = Y, random_state =2) #label of X_train will be stored in Y_train .. stratify balances 0 and 1 ... random state is just to follow instructor.. it can be any integer value"
      ],
      "metadata": {
        "id": "wVDSleN3_Btm"
      },
      "execution_count": 46,
      "outputs": []
    },
    {
      "cell_type": "markdown",
      "source": [
        "Training the Model : LogisticRegression"
      ],
      "metadata": {
        "id": "slQW_f0bAp9-"
      }
    },
    {
      "cell_type": "code",
      "source": [
        "model = LogisticRegression()"
      ],
      "metadata": {
        "id": "vzdaBYGN_jcw"
      },
      "execution_count": 47,
      "outputs": []
    },
    {
      "cell_type": "code",
      "source": [
        "model.fit(X_train, Y_train)"
      ],
      "metadata": {
        "colab": {
          "base_uri": "https://localhost:8080/"
        },
        "id": "WmkMMP1PAxD3",
        "outputId": "b56a5db2-3e7d-4dcb-9b48-04bc66270dc6"
      },
      "execution_count": 48,
      "outputs": [
        {
          "output_type": "execute_result",
          "data": {
            "text/plain": [
              "LogisticRegression()"
            ]
          },
          "metadata": {},
          "execution_count": 48
        }
      ]
    },
    {
      "cell_type": "markdown",
      "source": [
        "Evaluation "
      ],
      "metadata": {
        "id": "Bc06pK7vCjAt"
      }
    },
    {
      "cell_type": "markdown",
      "source": [
        "Accuracy Score"
      ],
      "metadata": {
        "id": "o5bGXJpwCq7z"
      }
    },
    {
      "cell_type": "code",
      "source": [
        "#accuracy score on the training data\n",
        "X_train_prediction = model.predict(X_train) #X train prediction is predicted by our model and Y_train are original ... we will compare and get the accuracy of our model\n",
        "training_data_accuracy = accuracy_score(X_train_prediction, Y_train) "
      ],
      "metadata": {
        "id": "_XBPIsbCCZhm"
      },
      "execution_count": 49,
      "outputs": []
    },
    {
      "cell_type": "code",
      "source": [
        "print(\"Accuracy score of the training data : \", training_data_accuracy)"
      ],
      "metadata": {
        "colab": {
          "base_uri": "https://localhost:8080/"
        },
        "id": "xnS6bWxtDbpI",
        "outputId": "d8582c08-1b22-4252-d6de-67b93bb9bbd6"
      },
      "execution_count": 50,
      "outputs": [
        {
          "output_type": "stream",
          "name": "stdout",
          "text": [
            "Accuracy score of the training data :  0.9803946369845686\n"
          ]
        }
      ]
    },
    {
      "cell_type": "markdown",
      "source": [
        "This model is preferred for binary classification"
      ],
      "metadata": {
        "id": "8OwRVepED2l1"
      }
    },
    {
      "cell_type": "code",
      "source": [
        "#accuracy score on testing data\n",
        "X_test_prediction = model.predict(X_test)\n",
        "testing_data_accuracy = accuracy_score(X_test_prediction, Y_test)"
      ],
      "metadata": {
        "id": "4ifesvk-DrCG"
      },
      "execution_count": 51,
      "outputs": []
    },
    {
      "cell_type": "code",
      "source": [
        "print(\"Accuracy score of the testing data : \", testing_data_accuracy)"
      ],
      "metadata": {
        "colab": {
          "base_uri": "https://localhost:8080/"
        },
        "id": "Cp-fUH0MEVf_",
        "outputId": "662571ce-ae89-4783-a8a5-859e1108566b"
      },
      "execution_count": 52,
      "outputs": [
        {
          "output_type": "stream",
          "name": "stdout",
          "text": [
            "Accuracy score of the testing data :  0.9681335356600911\n"
          ]
        }
      ]
    },
    {
      "cell_type": "markdown",
      "source": [
        "Making a Predictive System"
      ],
      "metadata": {
        "id": "AGlVZzZXEr0A"
      }
    },
    {
      "cell_type": "code",
      "source": [
        "X_new = X_test[10]\n",
        "\n",
        "prediction = model.predict(X_new)\n",
        "print(prediction)\n",
        "\n",
        "if (prediction[0]==0):\n",
        "  print(\"The news is Real\")\n",
        "else:\n",
        "  print(\"The news is Fake\")\n"
      ],
      "metadata": {
        "colab": {
          "base_uri": "https://localhost:8080/"
        },
        "id": "vWXS6r-IEfTK",
        "outputId": "5ba484b3-3416-4657-b0bd-faa8621149aa"
      },
      "execution_count": 53,
      "outputs": [
        {
          "output_type": "stream",
          "name": "stdout",
          "text": [
            "[1]\n",
            "The news is Fake\n"
          ]
        }
      ]
    },
    {
      "cell_type": "code",
      "source": [
        "print(Y_test[10])"
      ],
      "metadata": {
        "colab": {
          "base_uri": "https://localhost:8080/"
        },
        "id": "7BMNcY0YFVKB",
        "outputId": "e9101beb-3486-4878-c7a3-400b1e326b8e"
      },
      "execution_count": 54,
      "outputs": [
        {
          "output_type": "stream",
          "name": "stdout",
          "text": [
            "1\n"
          ]
        }
      ]
    }
  ]
}